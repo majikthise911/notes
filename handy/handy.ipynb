{
 "cells": [
  {
   "cell_type": "code",
   "execution_count": null,
   "metadata": {},
   "outputs": [],
   "source": []
  },
  {
   "attachments": {},
   "cell_type": "markdown",
   "metadata": {},
   "source": [
    "https://www.winhelponline.com/blog/how-to-copy-folder-structure-without-copying-files/\n",
    "\n",
    "syntax: xcopy source destination /t /e\n",
    "\n",
    "\n",
    "example: \n",
    "\n",
    "xcopy \"D:\\Official\\2018-19\"   \"D:\\Official\\2019-20\" /t /e"
   ]
  }
 ],
 "metadata": {
  "language_info": {
   "name": "python"
  },
  "orig_nbformat": 4
 },
 "nbformat": 4,
 "nbformat_minor": 2
}
