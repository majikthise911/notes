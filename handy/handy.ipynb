{
 "cells": [
  {
   "cell_type": "code",
   "execution_count": null,
   "metadata": {},
   "outputs": [],
   "source": [
    "#why are there no handy infos here? "
   ]
  },
  {
   "attachments": {},
   "cell_type": "markdown",
   "metadata": {},
   "source": [
    "https://www.winhelponline.com/blog/how-to-copy-folder-structure-without-copying-files/\n",
    "\n",
    "syntax: xcopy source destination /t /e\n",
    "\n",
    "\n",
    "example: \n",
    "\n",
    "xcopy \"D:\\Official\\2018-19\"   \"D:\\Official\\2019-20\" /t /e"
   ]
  },
  {
   "attachments": {},
   "cell_type": "markdown",
   "metadata": {},
   "source": [
    "Parce DF list "
   ]
  },
  {
   "cell_type": "code",
   "execution_count": 1,
   "metadata": {},
   "outputs": [
    {
     "name": "stdout",
     "output_type": "stream",
     "text": [
      "     Code                       Name\n",
      "0   CA-AB                    Alberta\n",
      "1   CA-BC           British Columbia\n",
      "2   CA-MB                   Manitoba\n",
      "3   CA-NB              New Brunswick\n",
      "4   CA-NL  Newfoundland and Labrador\n",
      "5   CA-NT      Northwest Territories\n",
      "6   CA-NS                Nova Scotia\n",
      "7   CA-NU                    Nunavut\n",
      "8   CA-ON                    Ontario\n",
      "9   CA-PE       Prince Edward Island\n",
      "10  CA-QC                     Quebec\n",
      "11  CA-SK               Saskatchewan\n",
      "12  CA-YT                      Yukon\n"
     ]
    }
   ],
   "source": [
    "import pandas as pd\n",
    "\n",
    "# create the list of Canadian provinces\n",
    "provinces = ['CA-AB: Alberta', 'CA-BC: British Columbia', 'CA-MB: Manitoba', 'CA-NB: New Brunswick', \n",
    "             'CA-NL: Newfoundland and Labrador', 'CA-NT: Northwest Territories', 'CA-NS: Nova Scotia', \n",
    "             'CA-NU: Nunavut', 'CA-ON: Ontario', 'CA-PE: Prince Edward Island', 'CA-QC: Quebec', \n",
    "             'CA-SK: Saskatchewan', 'CA-YT: Yukon']\n",
    "\n",
    "# create a Pandas DataFrame from the list\n",
    "df = pd.DataFrame(provinces, columns=['Province'])\n",
    "\n",
    "# split the province code and name into separate columns\n",
    "df[['Code', 'Name']] = df['Province'].str.split(': ', expand=True)\n",
    "\n",
    "# remove the original 'Province' column\n",
    "df = df.drop('Province', axis=1)\n",
    "\n",
    "# display the resulting DataFrame\n",
    "print(df)\n"
   ]
  },
  {
   "cell_type": "code",
   "execution_count": null,
   "metadata": {},
   "outputs": [],
   "source": [
    "# export the DataFrame to a CSV file\n",
    "df.to_csv('provinces.csv', index=False)"
   ]
  },
  {
   "cell_type": "code",
   "execution_count": null,
   "metadata": {},
   "outputs": [],
   "source": [
    "newind = 'CA NY WY OR CO'.split() # this will split the string into a list. \n",
    "# .split is a way to split off a blank space and add the comma for you \n",
    "newind\n"
   ]
  },
  {
   "attachments": {},
   "cell_type": "markdown",
   "metadata": {},
   "source": [
    "## estimate"
   ]
  },
  {
   "cell_type": "code",
   "execution_count": null,
   "metadata": {},
   "outputs": [],
   "source": [
    "class RenewableProject:\n",
    "    def __init__(self, project_name, land_cost, material_cost, labor_cost, misc_cost):\n",
    "        self.project_name = project_name\n",
    "        self.land_cost = land_cost\n",
    "        self.material_cost = material_cost\n",
    "        self.labor_cost = labor_cost\n",
    "        self.misc_cost = misc_cost\n",
    "\n",
    "    def total_cost(self):\n",
    "        return self.land_cost + self.material_cost + self.labor_cost + self.misc_cost\n",
    "\n",
    "    def cost_breakdown(self):\n",
    "        total = self.total_cost()\n",
    "        breakdown = {\n",
    "            'Land Cost': (self.land_cost/total)*100,\n",
    "            'Material Cost': (self.material_cost/total)*100,\n",
    "            'Labor Cost': (self.labor_cost/total)*100,\n",
    "            'Miscellaneous Cost': (self.misc_cost/total)*100,\n",
    "        }\n",
    "        return breakdown\n",
    "\n",
    "\n",
    "def main():\n",
    "    print(\"Welcome to the Renewable Energy Project Cost Estimator\")\n",
    "    project_name = input(\"Enter the project name: \")\n",
    "    land_cost = float(input(\"Enter the land cost: \"))\n",
    "    material_cost = float(input(\"Enter the material cost: \"))\n",
    "    labor_cost = float(input(\"Enter the labor cost: \"))\n",
    "    misc_cost = float(input(\"Enter the miscellaneous cost: \"))\n",
    "\n",
    "    project = RenewableProject(project_name, land_cost, material_cost, labor_cost, misc_cost)\n",
    "\n",
    "    print(f\"Total cost for {project.project_name} is {project.total_cost()}\")\n",
    "    print(\"Cost breakdown:\")\n",
    "    for k, v in project.cost_breakdown().items():\n",
    "        print(f\"{k}: {v}%\")\n",
    "\n",
    "\n",
    "if __name__ == \"__main__\":\n",
    "    main()\n"
   ]
  },
  {
   "cell_type": "code",
   "execution_count": null,
   "metadata": {},
   "outputs": [],
   "source": [
    "# real estate \n",
    "def calculate_roi(purchase_price, selling_price, expenses):\n",
    "    net_profit = selling_price - purchase_price - expenses\n",
    "    roi = (net_profit / purchase_price) * 100\n",
    "    return roi\n",
    "\n",
    "# Example usage:\n",
    "purchase_price = 200000\n",
    "selling_price = 250000\n",
    "expenses = 15000\n",
    "\n",
    "roi = calculate_roi(purchase_price, selling_price, expenses)\n",
    "print(f\"The ROI for this real estate investment is: {roi:.2f}%\")"
   ]
  },
  {
   "cell_type": "markdown",
   "metadata": {},
   "source": [
    "# date format change"
   ]
  },
  {
   "cell_type": "code",
   "execution_count": 3,
   "metadata": {},
   "outputs": [
    {
     "data": {
      "text/plain": [
       "['2023.11.6',\n",
       " '2023.5.5',\n",
       " '2023.6.9',\n",
       " '2023.12.22',\n",
       " '2023.7.17',\n",
       " '2023.12.22',\n",
       " '2023.9.29',\n",
       " '2023.12.22',\n",
       " '2023.5.5',\n",
       " '2023.5.5',\n",
       " '2023.12.22',\n",
       " '2023.12.1',\n",
       " '2023.9.22',\n",
       " '2023.12.22',\n",
       " '2023.11.17',\n",
       " '2023.5.5',\n",
       " '2023.8.31',\n",
       " '2023.10.31',\n",
       " '2023.8.31',\n",
       " '2023.12.1',\n",
       " '2023.8.31',\n",
       " '2023.12.5',\n",
       " '2023.12.1',\n",
       " '2023.8.31',\n",
       " '2023.5.5',\n",
       " '2023.12.1',\n",
       " '2024.4.11',\n",
       " '2023.10.11',\n",
       " '2024.3.15',\n",
       " '2023.10.31',\n",
       " '2023.11.17',\n",
       " '2023.10.31',\n",
       " '2023.8.31',\n",
       " '2023.11.1',\n",
       " '2023.7.31',\n",
       " '2023.11.1',\n",
       " '2023.11.6',\n",
       " '2023.10.31',\n",
       " '2024.3.22',\n",
       " '2024.3.22',\n",
       " '2023.10.13',\n",
       " '2023.12.1',\n",
       " '2023.10.11',\n",
       " '2023.12.22',\n",
       " '2023.10.11',\n",
       " '2023.12.1',\n",
       " '2023.10.11',\n",
       " '2023.8.31',\n",
       " '2024.4.9',\n",
       " '2023.12.15',\n",
       " '2023.10.13',\n",
       " '2023.10.11',\n",
       " '2023.7.31',\n",
       " '2023.9.12',\n",
       " '2023.5.5',\n",
       " '2023.6.14',\n",
       " '2023.9.12',\n",
       " '2023.8.31',\n",
       " '2023.10.11',\n",
       " '2023.8.25',\n",
       " '2023.7.31',\n",
       " '2023.12.22',\n",
       " '2023.7.17',\n",
       " '2023.8.31',\n",
       " '2023.9.29',\n",
       " '2023.12.15',\n",
       " '2023.5.5',\n",
       " '2023.11.1',\n",
       " '2023.9.22',\n",
       " '2023.7.31',\n",
       " '2023.5.5',\n",
       " '2023.10.4',\n",
       " '2023.8.25',\n",
       " '2023.5.5',\n",
       " '2023.12.22',\n",
       " '2024.4.16']"
      ]
     },
     "execution_count": 3,
     "metadata": {},
     "output_type": "execute_result"
    }
   ],
   "source": [
    "import pandas as pd\n",
    "\n",
    "# Sample data from the column 'Date of Submission'\n",
    "dates = [\n",
    "    \"11.6.23\", \"5.5.23\", \"6.9.23\", \"12.22.23\", \"7.17.23\", \"12.22.23\", \"9.29.23\",\n",
    "    \"12.22.23\", \"5.5.23\", \"5.5.23\", \"12.22.23\", \"12.1.23\", \"9.22.23\", \"12.22.23\",\n",
    "    \"11.17.23\", \"5.5.23\", \"8.31.23\", \"10.31.23\", \"8.31.23\", \"12.1.23\", \"8.31.23\",\n",
    "    \"12.5.23\", \"12.1.23\", \"8.31.23\", \"5.5.23\", \"12.1.23\", \"4.11.24\", \"10.11.23\",\n",
    "    \"3.15.24\", \"10.31.23\", \"11.17.23\", \"10.31.23\", \"8.31.23\", \"11.1.23\", \"7.31.23\",\n",
    "    \"11.1.23\", \"11.6.23\", \"10.31.23\", \"3.22.24\", \"3.22.24\", \"10.13.23\", \"12.1.23\",\n",
    "    \"10.11.23\", \"12.22.23\", \"10.11.23\", \"12.1.23\", \"10.11.23\", \"8.31.23\", \"4.9.24\",\n",
    "    \"12.15.23\", \"10.13.23\", \"10.11.23\", \"7.31.23\", \"9.12.23\", \"5.5.23\", \"6.14.23\",\n",
    "    \"9.12.23\", \"8.31.23\", \"10.11.23\", \"8.25.23\", \"7.31.23\", \"12.22.23\", \"7.17.23\",\n",
    "    \"8.31.23\", \"9.29.23\", \"12.15.23\", \"5.5.23\", \"11.1.23\", \"9.22.23\", \"7.31.23\",\n",
    "    \"5.5.23\", \"10.4.23\", \"8.25.23\", \"5.5.23\", \"12.22.23\", \"4.16.24\"\n",
    "]\n",
    "\n",
    "# Define a function to convert date format from 'mm.dd.yy' to 'yy.mm.dd'\n",
    "def convert_date_format(date_str):\n",
    "    # Split the date string into its components\n",
    "    parts = date_str.split('.')\n",
    "    # Reform the string in 'yy.mm.dd' format\n",
    "    return f'20{parts[2]}.{parts[0]}.{parts[1]}'\n",
    "\n",
    "# Apply the function to each date in the list\n",
    "converted_dates = [convert_date_format(date) for date in dates]\n",
    "\n",
    "# Display the result\n",
    "converted_dates[:]  # show only the first 10 for brevity"
   ]
  }
 ],
 "metadata": {
  "kernelspec": {
   "display_name": "dev",
   "language": "python",
   "name": "python3"
  },
  "language_info": {
   "codemirror_mode": {
    "name": "ipython",
    "version": 3
   },
   "file_extension": ".py",
   "mimetype": "text/x-python",
   "name": "python",
   "nbconvert_exporter": "python",
   "pygments_lexer": "ipython3",
   "version": "3.7.11"
  },
  "orig_nbformat": 4,
  "vscode": {
   "interpreter": {
    "hash": "de2ce22df8fda9da83c00dfe1ae3ddbcc859cf4ea94ffda9f34276f28481c3ae"
   }
  }
 },
 "nbformat": 4,
 "nbformat_minor": 2
}
