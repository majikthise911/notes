{
 "cells": [
  {
   "cell_type": "code",
   "execution_count": null,
   "metadata": {},
   "outputs": [],
   "source": [
    "#why are there no handy infos here? "
   ]
  },
  {
   "attachments": {},
   "cell_type": "markdown",
   "metadata": {},
   "source": [
    "https://www.winhelponline.com/blog/how-to-copy-folder-structure-without-copying-files/\n",
    "\n",
    "syntax: xcopy source destination /t /e\n",
    "\n",
    "\n",
    "example: \n",
    "\n",
    "xcopy \"D:\\Official\\2018-19\"   \"D:\\Official\\2019-20\" /t /e"
   ]
  },
  {
   "attachments": {},
   "cell_type": "markdown",
   "metadata": {},
   "source": [
    "Parce DF list "
   ]
  },
  {
   "cell_type": "code",
   "execution_count": 1,
   "metadata": {},
   "outputs": [
    {
     "name": "stdout",
     "output_type": "stream",
     "text": [
      "     Code                       Name\n",
      "0   CA-AB                    Alberta\n",
      "1   CA-BC           British Columbia\n",
      "2   CA-MB                   Manitoba\n",
      "3   CA-NB              New Brunswick\n",
      "4   CA-NL  Newfoundland and Labrador\n",
      "5   CA-NT      Northwest Territories\n",
      "6   CA-NS                Nova Scotia\n",
      "7   CA-NU                    Nunavut\n",
      "8   CA-ON                    Ontario\n",
      "9   CA-PE       Prince Edward Island\n",
      "10  CA-QC                     Quebec\n",
      "11  CA-SK               Saskatchewan\n",
      "12  CA-YT                      Yukon\n"
     ]
    }
   ],
   "source": [
    "import pandas as pd\n",
    "\n",
    "# create the list of Canadian provinces\n",
    "provinces = ['CA-AB: Alberta', 'CA-BC: British Columbia', 'CA-MB: Manitoba', 'CA-NB: New Brunswick', \n",
    "             'CA-NL: Newfoundland and Labrador', 'CA-NT: Northwest Territories', 'CA-NS: Nova Scotia', \n",
    "             'CA-NU: Nunavut', 'CA-ON: Ontario', 'CA-PE: Prince Edward Island', 'CA-QC: Quebec', \n",
    "             'CA-SK: Saskatchewan', 'CA-YT: Yukon']\n",
    "\n",
    "# create a Pandas DataFrame from the list\n",
    "df = pd.DataFrame(provinces, columns=['Province'])\n",
    "\n",
    "# split the province code and name into separate columns\n",
    "df[['Code', 'Name']] = df['Province'].str.split(': ', expand=True)\n",
    "\n",
    "# remove the original 'Province' column\n",
    "df = df.drop('Province', axis=1)\n",
    "\n",
    "# display the resulting DataFrame\n",
    "print(df)\n"
   ]
  },
  {
   "cell_type": "code",
   "execution_count": null,
   "metadata": {},
   "outputs": [],
   "source": [
    "# export the DataFrame to a CSV file\n",
    "df.to_csv('provinces.csv', index=False)"
   ]
  },
  {
   "cell_type": "code",
   "execution_count": null,
   "metadata": {},
   "outputs": [],
   "source": [
    "newind = 'CA NY WY OR CO'.split() # this will split the string into a list. \n",
    "# .split is a way to split off a blank space and add the comma for you \n",
    "newind\n"
   ]
  },
  {
   "attachments": {},
   "cell_type": "markdown",
   "metadata": {},
   "source": [
    "## estimate"
   ]
  },
  {
   "cell_type": "code",
   "execution_count": null,
   "metadata": {},
   "outputs": [],
   "source": [
    "class RenewableProject:\n",
    "    def __init__(self, project_name, land_cost, material_cost, labor_cost, misc_cost):\n",
    "        self.project_name = project_name\n",
    "        self.land_cost = land_cost\n",
    "        self.material_cost = material_cost\n",
    "        self.labor_cost = labor_cost\n",
    "        self.misc_cost = misc_cost\n",
    "\n",
    "    def total_cost(self):\n",
    "        return self.land_cost + self.material_cost + self.labor_cost + self.misc_cost\n",
    "\n",
    "    def cost_breakdown(self):\n",
    "        total = self.total_cost()\n",
    "        breakdown = {\n",
    "            'Land Cost': (self.land_cost/total)*100,\n",
    "            'Material Cost': (self.material_cost/total)*100,\n",
    "            'Labor Cost': (self.labor_cost/total)*100,\n",
    "            'Miscellaneous Cost': (self.misc_cost/total)*100,\n",
    "        }\n",
    "        return breakdown\n",
    "\n",
    "\n",
    "def main():\n",
    "    print(\"Welcome to the Renewable Energy Project Cost Estimator\")\n",
    "    project_name = input(\"Enter the project name: \")\n",
    "    land_cost = float(input(\"Enter the land cost: \"))\n",
    "    material_cost = float(input(\"Enter the material cost: \"))\n",
    "    labor_cost = float(input(\"Enter the labor cost: \"))\n",
    "    misc_cost = float(input(\"Enter the miscellaneous cost: \"))\n",
    "\n",
    "    project = RenewableProject(project_name, land_cost, material_cost, labor_cost, misc_cost)\n",
    "\n",
    "    print(f\"Total cost for {project.project_name} is {project.total_cost()}\")\n",
    "    print(\"Cost breakdown:\")\n",
    "    for k, v in project.cost_breakdown().items():\n",
    "        print(f\"{k}: {v}%\")\n",
    "\n",
    "\n",
    "if __name__ == \"__main__\":\n",
    "    main()\n"
   ]
  },
  {
   "cell_type": "code",
   "execution_count": null,
   "metadata": {},
   "outputs": [],
   "source": [
    "# real estate \n",
    "def calculate_roi(purchase_price, selling_price, expenses):\n",
    "    net_profit = selling_price - purchase_price - expenses\n",
    "    roi = (net_profit / purchase_price) * 100\n",
    "    return roi\n",
    "\n",
    "# Example usage:\n",
    "purchase_price = 200000\n",
    "selling_price = 250000\n",
    "expenses = 15000\n",
    "\n",
    "roi = calculate_roi(purchase_price, selling_price, expenses)\n",
    "print(f\"The ROI for this real estate investment is: {roi:.2f}%\")"
   ]
  },
  {
   "cell_type": "code",
   "execution_count": null,
   "metadata": {},
   "outputs": [],
   "source": [
    "# real estate \n",
    "def calculate_roi(purchase_price, selling_price, expenses):\n",
    "    net_profit = selling_price - purchase_price - expenses\n",
    "    roi = (net_profit / purchase_price) * 100\n",
    "    return roi\n",
    "\n",
    "# Example usage:\n",
    "purchase_price = 200000\n",
    "selling_price = 250000\n",
    "expenses = 15000\n",
    "\n",
    "roi = calculate_roi(purchase_price, selling_price, expenses)\n",
    "print(f\"The ROI for this real estate investment is: {roi:.2f}%\")"
   ]
  }
 ],
 "metadata": {
  "kernelspec": {
   "display_name": "dev",
   "language": "python",
   "name": "python3"
  },
  "language_info": {
   "codemirror_mode": {
    "name": "ipython",
    "version": 3
   },
   "file_extension": ".py",
   "mimetype": "text/x-python",
   "name": "python",
   "nbconvert_exporter": "python",
   "pygments_lexer": "ipython3",
   "version": "3.7.13"
  },
  "orig_nbformat": 4,
  "vscode": {
   "interpreter": {
    "hash": "de2ce22df8fda9da83c00dfe1ae3ddbcc859cf4ea94ffda9f34276f28481c3ae"
   }
  }
 },
 "nbformat": 4,
 "nbformat_minor": 2
}
