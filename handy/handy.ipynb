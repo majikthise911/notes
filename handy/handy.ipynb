{
 "cells": [
  {
   "cell_type": "code",
   "execution_count": null,
   "metadata": {},
   "outputs": [],
   "source": [
    "#why are there no handy infos here? "
   ]
  },
  {
   "attachments": {},
   "cell_type": "markdown",
   "metadata": {},
   "source": [
    "https://www.winhelponline.com/blog/how-to-copy-folder-structure-without-copying-files/\n",
    "\n",
    "syntax: xcopy source destination /t /e\n",
    "\n",
    "\n",
    "example: \n",
    "\n",
    "xcopy \"D:\\Official\\2018-19\"   \"D:\\Official\\2019-20\" /t /e"
   ]
  },
  {
   "attachments": {},
   "cell_type": "markdown",
   "metadata": {},
   "source": [
    "Parce DF list "
   ]
  },
  {
   "cell_type": "code",
   "execution_count": 1,
   "metadata": {},
   "outputs": [
    {
     "name": "stdout",
     "output_type": "stream",
     "text": [
      "     Code                       Name\n",
      "0   CA-AB                    Alberta\n",
      "1   CA-BC           British Columbia\n",
      "2   CA-MB                   Manitoba\n",
      "3   CA-NB              New Brunswick\n",
      "4   CA-NL  Newfoundland and Labrador\n",
      "5   CA-NT      Northwest Territories\n",
      "6   CA-NS                Nova Scotia\n",
      "7   CA-NU                    Nunavut\n",
      "8   CA-ON                    Ontario\n",
      "9   CA-PE       Prince Edward Island\n",
      "10  CA-QC                     Quebec\n",
      "11  CA-SK               Saskatchewan\n",
      "12  CA-YT                      Yukon\n"
     ]
    }
   ],
   "source": [
    "import pandas as pd\n",
    "\n",
    "# create the list of Canadian provinces\n",
    "provinces = ['CA-AB: Alberta', 'CA-BC: British Columbia', 'CA-MB: Manitoba', 'CA-NB: New Brunswick', \n",
    "             'CA-NL: Newfoundland and Labrador', 'CA-NT: Northwest Territories', 'CA-NS: Nova Scotia', \n",
    "             'CA-NU: Nunavut', 'CA-ON: Ontario', 'CA-PE: Prince Edward Island', 'CA-QC: Quebec', \n",
    "             'CA-SK: Saskatchewan', 'CA-YT: Yukon']\n",
    "\n",
    "# create a Pandas DataFrame from the list\n",
    "df = pd.DataFrame(provinces, columns=['Province'])\n",
    "\n",
    "# split the province code and name into separate columns\n",
    "df[['Code', 'Name']] = df['Province'].str.split(': ', expand=True)\n",
    "\n",
    "# remove the original 'Province' column\n",
    "df = df.drop('Province', axis=1)\n",
    "\n",
    "# display the resulting DataFrame\n",
    "print(df)\n"
   ]
  },
  {
   "cell_type": "code",
   "execution_count": null,
   "metadata": {},
   "outputs": [],
   "source": [
    "# export the DataFrame to a CSV file\n",
    "df.to_csv('provinces.csv', index=False)"
   ]
  },
  {
   "cell_type": "code",
   "execution_count": null,
   "metadata": {},
   "outputs": [],
   "source": [
    "# gotta keep it up here \n",
    "# need to put more handy info here"
   ]
  }
 ],
 "metadata": {
  "kernelspec": {
   "display_name": "dev",
   "language": "python",
   "name": "python3"
  },
  "language_info": {
   "codemirror_mode": {
    "name": "ipython",
    "version": 3
   },
   "file_extension": ".py",
   "mimetype": "text/x-python",
   "name": "python",
   "nbconvert_exporter": "python",
   "pygments_lexer": "ipython3",
   "version": "3.7.13"
  },
  "orig_nbformat": 4,
  "vscode": {
   "interpreter": {
    "hash": "de2ce22df8fda9da83c00dfe1ae3ddbcc859cf4ea94ffda9f34276f28481c3ae"
   }
  }
 },
 "nbformat": 4,
 "nbformat_minor": 2
}
