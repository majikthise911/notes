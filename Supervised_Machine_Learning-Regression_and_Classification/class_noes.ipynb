{
 "cells": [
  {
   "cell_type": "code",
   "execution_count": null,
   "metadata": {},
   "outputs": [],
   "source": [
    "course_url = https://www.coursera.org/learn/machine-learning/lecture/iYR2y/welcome-to-machine-learning"
   ]
  },
  {
   "attachments": {},
   "cell_type": "markdown",
   "metadata": {},
   "source": [
    "machine learning = field of study that gives computers the ability to learn without being explicitly programmed\n",
    "two main parts of ML\n",
    "- supervised learning - used most in real world applications \n",
    "\n",
    "- unsupervised learning \n",
    "    - recommender systems \n",
    "    - reinformcement learning \n",
    "    "
   ]
  }
 ],
 "metadata": {
  "language_info": {
   "name": "python"
  },
  "orig_nbformat": 4
 },
 "nbformat": 4,
 "nbformat_minor": 2
}
