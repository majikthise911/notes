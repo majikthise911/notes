{
 "cells": [
  {
   "cell_type": "code",
   "execution_count": null,
   "metadata": {},
   "outputs": [],
   "source": [
    "course_url = https://www.coursera.org/learn/machine-learning/lecture/iYR2y/welcome-to-machine-learning"
   ]
  },
  {
   "attachments": {},
   "cell_type": "markdown",
   "metadata": {},
   "source": [
    "machine learning = field of study that gives computers the ability to learn without being explicitly programmed\n",
    "two main parts of ML\n",
    "- supervised learning - used most in real world applications \n",
    "    - Two of common types are regression and classification \n",
    "\n",
    "- unsupervised learning - clustering is common type of this \n",
    "    - recommender systems \n",
    "    - reinformcement learning \n",
    "\n"
   ]
  },
  {
   "attachments": {},
   "cell_type": "markdown",
   "metadata": {},
   "source": [
    "we will be focusing on supervised learning in this course \n",
    "\n",
    "- classification - an example would be the classifying breast cancer as benign or malignant (0 or 1) \n",
    "- classification algos are trying to group things into a few categories where regression is trying to find the one number out of an infinante array of numbers "
   ]
  },
  {
   "attachments": {},
   "cell_type": "markdown",
   "metadata": {},
   "source": [
    "## Linear regression model part 1"
   ]
  },
  {
   "cell_type": "markdown",
   "metadata": {},
   "source": []
  }
 ],
 "metadata": {
  "language_info": {
   "name": "python"
  },
  "orig_nbformat": 4
 },
 "nbformat": 4,
 "nbformat_minor": 2
}
