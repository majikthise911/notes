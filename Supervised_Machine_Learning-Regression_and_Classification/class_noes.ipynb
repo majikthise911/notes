{
 "cells": [
  {
   "cell_type": "code",
   "execution_count": null,
   "metadata": {},
   "outputs": [],
   "source": [
    "course_url = https://www.coursera.org/learn/machine-learning/lecture/iYR2y/welcome-to-machine-learning"
   ]
  }
 ],
 "metadata": {
  "language_info": {
   "name": "python"
  },
  "orig_nbformat": 4
 },
 "nbformat": 4,
 "nbformat_minor": 2
}
