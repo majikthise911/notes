{
 "cells": [
  {
   "cell_type": "markdown",
   "metadata": {},
   "source": [
    "# Introduction "
   ]
  },
  {
   "cell_type": "markdown",
   "metadata": {},
   "source": [
    "## How to use the exercise files "
   ]
  },
  {
   "cell_type": "markdown",
   "metadata": {},
   "source": [
    "We are using SQLiteStudio for this course. \n",
    "- Once downloaded, to open hold control then right click and select open. \n",
    "- Hit control + o to open a new database. Navigate to where the exercise files are stored and open each\n",
    "- hit the button that looks like a piece of paper with a pencil on it to open the editor\n",
    "### TO EXECUTE QUERY MUST HIGHLIGHT CODE WANT TO EXECUTE AND PRESS PLAY OR F9 "
   ]
  },
  {
   "cell_type": "markdown",
   "metadata": {},
   "source": [
    "To select data from a table type: SELECT * FROM Table Name; \n",
    "then hit the play button "
   ]
  },
  {
   "cell_type": "code",
   "execution_count": null,
   "metadata": {},
   "outputs": [],
   "source": [
    "SELECT * FROM Table Name; "
   ]
  },
  {
   "cell_type": "markdown",
   "metadata": {},
   "source": [
    "# SQL Overview"
   ]
  },
  {
   "cell_type": "code",
   "execution_count": null,
   "metadata": {},
   "outputs": [],
   "source": [
    "SELECT * FROM Countries WHERE Continent = 'Europe';   # says select rows from Continent table where content column is populated with \n",
    "                                                      # Europe "
   ]
  },
  {
   "cell_type": "code",
   "execution_count": null,
   "metadata": {},
   "outputs": [],
   "source": [
    "CRUD - four fundamental functions of a DB system\n",
    "\n",
    "Create \n",
    "Read\n",
    "Update \n",
    "Delete"
   ]
  },
  {
   "cell_type": "code",
   "execution_count": null,
   "metadata": {},
   "outputs": [],
   "source": [
    "Insert INTO Customer (name, city, state)\n",
    "    VALUES ('Jimi Hendrix', 'Renton', 'WA'); # the indentation signifies taht it is part of the same line of code as above. This is\n",
    "                                             # just moved down to improve readability"
   ]
  },
  {
   "cell_type": "code",
   "execution_count": null,
   "metadata": {},
   "outputs": [],
   "source": [
    "UPDATE Customer\n",
    "    SET\n",
    "        Address = '123 Music Avenue',\n",
    "        Zip = '98988'\n",
    "    WHERE id = 5; "
   ]
  },
  {
   "cell_type": "code",
   "execution_count": null,
   "metadata": {},
   "outputs": [],
   "source": [
    "DELETE FROM Customer WHERE id = 4;"
   ]
  },
  {
   "cell_type": "markdown",
   "metadata": {},
   "source": [
    "## Database organization "
   ]
  },
  {
   "cell_type": "markdown",
   "metadata": {},
   "source": [
    "DB is made up of a table or many tables. tables are made up of rows and columns. Primary key is the column that is used as the key for the table "
   ]
  },
  {
   "cell_type": "code",
   "execution_count": null,
   "metadata": {},
   "outputs": [],
   "source": [
    "# The select statement returns results or a set of results from a query.\n",
    "SELECT 'Hello World';\n",
    "\n",
    "# Can use the AS keyword to give a column a name.\n",
    "\n",
    "SELECT 'Hello World' AS Result;\n",
    "\n",
    "# This will return a single row with a single column with Result as the column name and Hello World in the cell \n",
    "\n",
    "SELECT * FROM Country; \n",
    "\n",
    "# This will return all rows and all columns from the Country table.\n",
    "\n",
    "SELECT * FROM Country ORDER BY Name;\n",
    "\n",
    "# This will return all rows from the Country table and sort them by the Name column.\n",
    "\n",
    "SELECT Name, LifeExpectancy AS \"Life Expectancy\" FROM Country ORDER BY Name;\n",
    "\n",
    "# This will return all rows from the Country Table in the Name and LifeExpectancy columns and sort them by the Name column.\n",
    "# Notice the use of double quotes around Life Expectancy. This is because we are alling the column to be called Life Expectancy.\n",
    "\n",
    "\n"
   ]
  },
  {
   "cell_type": "markdown",
   "metadata": {},
   "source": [
    "## Selectring Rows"
   ]
  },
  {
   "cell_type": "code",
   "execution_count": null,
   "metadata": {},
   "outputs": [],
   "source": [
    "SELECT Name, Continent, Region From Country WHERE Continent = 'Europe';\n",
    "# This will return all rows from the Country table in the Name, Continent and Region columns and only return rows where the Continent column is populated with Europe.\n",
    "\n",
    "SELECT Name, Continent, Region From Country WHERE Continent = 'Europe'; ORDER BY Name LIMIT 5 OFFSET 10;\n",
    "# This will return all rows from the Country table in the Name, Continent and Region columns and only return rows where the Continent column is populated with Europe \n",
    "# AND sort them by the Name colum while limiting the number of rows to 5 and starting at row 10."
   ]
  },
  {
   "cell_type": "markdown",
   "metadata": {},
   "source": [
    "## Selecting Columns"
   ]
  },
  {
   "cell_type": "code",
   "execution_count": null,
   "metadata": {},
   "outputs": [],
   "source": [
    "SELECT Name AS Country, Continent, Region FROM Country;\n",
    "# This will return all rows from the Country table in the Name, Continent and Region columns from the Country table and rename the Name column to Country."
   ]
  },
  {
   "cell_type": "markdown",
   "metadata": {},
   "source": [
    "## Counting Rows"
   ]
  },
  {
   "cell_type": "code",
   "execution_count": null,
   "metadata": {},
   "outputs": [],
   "source": [
    "SELECT COUNT (*) FROM Country;\n",
    "# This will return the number of rows in the Country table.\n",
    "\n",
    "SELECT COUNT (*) FROM Country WHERE Population > 1000000;\n",
    "# This will return the number of rows in the Country table where the Population column is greater than 1,000,000.\n",
    "\n",
    "SELECT COUNT (*) FROM Country WHERE Population > 1000000 AND Continent = 'Europe';\n",
    "# This will return the number of rows in the Country table where the Population column is greater than 1,000,000 AND the Continent column is populated with Europe.\n",
    "\n",
    "# The * is a special case and means count all rows in the table.\n",
    "# If instead of the * we specify a column like below: \n",
    "SELECT COUNT (LifeExpectancy) FROM Country;\n",
    "# This will return the number of rows in the Country table where the LifeExpectancy column is populated."
   ]
  },
  {
   "cell_type": "markdown",
   "metadata": {},
   "source": [
    "## Inserting Data "
   ]
  },
  {
   "cell_type": "code",
   "execution_count": null,
   "metadata": {},
   "outputs": [],
   "source": [
    "SELECT * FROM customer; \n",
    "\n",
    "INSERT INTO customer (name, address, city state, zip)\n",
    "    VALUES ('Fred Flinstone', '123 Bedrock', 'Bedrock', 'WA', '99999');\n",
    "\n",
    "# here we are selecting all rows from the customer table and inserting a new row into the customer table with the values from the VALUES clause.\n",
    "\n",
    "# we can also insert a new row and only populate some fo the columns. The areas that are not populated will be populated with NULL.\n",
    "INSERT INTO customer (name, city, state )\n",
    "    VALUES ('Jimi Hendrix', 'Renton', 'WA');"
   ]
  },
  {
   "cell_type": "markdown",
   "metadata": {},
   "source": [
    "## Updating Data"
   ]
  },
  {
   "cell_type": "code",
   "execution_count": null,
   "metadata": {},
   "outputs": [],
   "source": [
    "SELECT * FROM customer;\n",
    "\n",
    "UPDATE customer SET address = '123 Music Avenue', zip = '98988' WHERE id = 5;\n",
    "# This will update the address and zip columns of the customer table where the id column is populated with 5.\n",
    "\n",
    "UPDATE customer SET address = '2603 S Washington ST', zip = '98000' WHERE id = 5; # the id number is the index of the row in the table so it will only \n",
    "                                                                                  # change this information for that row \n",
    "\n",
    "UPDATE customer SET address = NULL, zip = NULL WHERE id = 5; # this will set the address and zip columns to NULL where the id column is populated with 5."
   ]
  },
  {
   "cell_type": "markdown",
   "metadata": {},
   "source": [
    "## Deleting Data"
   ]
  },
  {
   "cell_type": "code",
   "execution_count": null,
   "metadata": {},
   "outputs": [],
   "source": [
    "SELECT * FROM customer WHERE id = 4;\n",
    "# This will return all rows from the customer table where the id column is populated with 4, so it will return only one row.\n",
    "\n",
    "DELETE FROM customer WHERE id = 4;\n",
    "SELECT * FROM customer;\n",
    "# This will delete the row from the customer table where the id column is populated with 4.\n",
    "\n",
    "DELETE FROM customer WHERE id = 5;\n",
    "SELECT * FROM customer;\n",
    "# This will delete the row from the customer table where the id column is populated with 5."
   ]
  }
 ],
 "metadata": {
  "kernelspec": {
   "display_name": "Python 3.8.9 64-bit",
   "language": "python",
   "name": "python3"
  },
  "language_info": {
   "name": "python",
   "version": "3.8.9"
  },
  "orig_nbformat": 4,
  "vscode": {
   "interpreter": {
    "hash": "31f2aee4e71d21fbe5cf8b01ff0e069b9275f58929596ceb00d14d90e3e16cd6"
   }
  }
 },
 "nbformat": 4,
 "nbformat_minor": 2
}
