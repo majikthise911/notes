{
 "cells": [
  {
   "cell_type": "markdown",
   "metadata": {},
   "source": [
    "# Introduction "
   ]
  },
  {
   "cell_type": "markdown",
   "metadata": {},
   "source": [
    "## How to use the exercise files "
   ]
  },
  {
   "cell_type": "markdown",
   "metadata": {},
   "source": [
    "We are using SQLiteStudio for this course. \n",
    "- Once downloaded, to open hold control then right click and select open. \n",
    "- Hit control + o to open a new database. Navigate to where the exercise files are stored and open each\n",
    "- hit the button that looks like a piece of paper with a pencil on it to open the editor "
   ]
  },
  {
   "cell_type": "markdown",
   "metadata": {},
   "source": [
    "To select data from a table type: SELECT * FROM Table Name; \n",
    "then hit the play button "
   ]
  },
  {
   "cell_type": "code",
   "execution_count": null,
   "metadata": {
    "vscode": {
     "languageId": "plaintext"
    }
   },
   "outputs": [],
   "source": [
    "SELECT * FROM Table Name; "
   ]
  },
  {
   "cell_type": "markdown",
   "metadata": {},
   "source": [
    "# SQL Overview"
   ]
  },
  {
   "cell_type": "code",
   "execution_count": null,
   "metadata": {
    "vscode": {
     "languageId": "plaintext"
    }
   },
   "outputs": [],
   "source": [
    "SELECT * FROM Countries WHERE Continent = 'Europe';   # says select rows from Continent table where content column is populated with \n",
    "                                                      # Europe "
   ]
  },
  {
   "cell_type": "code",
   "execution_count": null,
   "metadata": {
    "vscode": {
     "languageId": "plaintext"
    }
   },
   "outputs": [],
   "source": [
    "CRUD - four fundamental functions of a DB system\n",
    "\n",
    "Create \n",
    "Read\n",
    "Update \n",
    "Delete"
   ]
  },
  {
   "cell_type": "code",
   "execution_count": null,
   "metadata": {
    "vscode": {
     "languageId": "plaintext"
    }
   },
   "outputs": [],
   "source": [
    "Insert INTO Customer (name, city, state)\n",
    "    VALUES ('Jimi Hendrix', 'Renton', 'WA'); # the indentation signifies taht it is part of the same line of code as above. This is\n",
    "                                             # just moved down to improve readability"
   ]
  },
  {
   "cell_type": "code",
   "execution_count": null,
   "metadata": {
    "vscode": {
     "languageId": "plaintext"
    }
   },
   "outputs": [],
   "source": [
    "UPDATE Customer\n",
    "    SET\n",
    "        Address = '123 Music Avenue',\n",
    "        Zip = '98988'\n",
    "    WHERE id = 5; "
   ]
  },
  {
   "cell_type": "code",
   "execution_count": null,
   "metadata": {
    "vscode": {
     "languageId": "plaintext"
    }
   },
   "outputs": [],
   "source": [
    "DELETE FROM Customer WHERE id = 4;"
   ]
  },
  {
   "cell_type": "markdown",
   "metadata": {},
   "source": [
    "## Database organization "
   ]
  },
  {
   "cell_type": "markdown",
   "metadata": {},
   "source": [
    "DB is made up of a table or many tables. tables are made up of rows and columns. Primary key is the column that is used as the key for the table "
   ]
  }
 ],
 "metadata": {
  "language_info": {
   "name": "python"
  },
  "orig_nbformat": 4
 },
 "nbformat": 4,
 "nbformat_minor": 2
}
