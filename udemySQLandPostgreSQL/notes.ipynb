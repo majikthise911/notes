{
 "cells": [
  {
   "cell_type": "code",
   "execution_count": null,
   "metadata": {
    "vscode": {
     "languageId": "sql"
    }
   },
   "outputs": [],
   "source": [
    "/* how to create table */\n",
    "CREATE TABLE cities (\n",
    "  name VARCHAR(50),\n",
    "  country VARCHAR(50),\n",
    "  population INTEGER,\n",
    "  area INTEGER\n",
    "  );"
   ]
  }
 ],
 "metadata": {
  "language_info": {
   "name": "python"
  },
  "orig_nbformat": 4
 },
 "nbformat": 4,
 "nbformat_minor": 2
}
