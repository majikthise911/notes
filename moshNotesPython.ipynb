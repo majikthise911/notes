{
 "cells": [
  {
   "cell_type": "code",
   "execution_count": null,
   "metadata": {},
   "outputs": [],
   "source": [
    "# 6 String Methods \n",
    "# Objects - everything in python is an object and objects have fns called methods we can access with . Notation \n",
    "course = \"Python Programming\"\n",
    "print(course.upper())\n",
    "print(course.lower())\n",
    "print(course.title())\n",
    "print(course.strip())\n",
    "print(course.find(\"pro\"))\n",
    "print(course.replace(\"p\", \"j\"))\n",
    "print(\"pro\" in course) # this will tell us if pro is in the string that is contained within course variable \n",
    "print(\"pro\" not in course) # this will give true in response "
   ]
  },
  {
   "cell_type": "code",
   "execution_count": null,
   "metadata": {},
   "outputs": [],
   "source": [
    "# 7 Numbers \n",
    "\n",
    "#3 to represent complex numbers we use j\n",
    "print(10 +3)\n",
    "print(10 - 3)\n",
    "print(10 * 3)\n",
    "print(10/3) # this will give a float 3.33\n",
    "print(10 // 2) # this will give a whole int 3 \n",
    "print(10 % 3) #modulus is the remainder of a division \n",
    "print(10**3) # 10 to the power of 3\n",
    "# x = x + 3 is the same as saying x +=3\n",
    "\n",
    "\n"
   ]
  },
  {
   "cell_type": "code",
   "execution_count": null,
   "metadata": {},
   "outputs": [],
   "source": [
    "#8 Working with Numbers \n",
    "# \n",
    "print(round(2.9)) \n",
    "print(abs(-2.9))\n",
    "\n",
    "import math\n",
    "\n",
    "print(math.ceil(2.2))"
   ]
  },
  {
   "cell_type": "code",
   "execution_count": 1,
   "metadata": {},
   "outputs": [
    {
     "data": {
      "text/plain": [
       "[1, 2, 3, 4, 5, 6, 7, 8, 9, 10]"
      ]
     },
     "metadata": {},
     "output_type": "display_data"
    }
   ],
   "source": [
    "# testing some stuff and things\n",
    "# create a list of numbers 1 through 10 \n",
    "x = list(range(1,11))\n",
    "display(x)\n",
    "\n"
   ]
  }
 ],
 "metadata": {
  "kernelspec": {
   "display_name": "Python 3.7.13 ('dev')",
   "language": "python",
   "name": "python3"
  },
  "language_info": {
   "codemirror_mode": {
    "name": "ipython",
    "version": 3
   },
   "file_extension": ".py",
   "mimetype": "text/x-python",
   "name": "python",
   "nbconvert_exporter": "python",
   "pygments_lexer": "ipython3",
   "version": "3.7.13"
  },
  "orig_nbformat": 4,
  "vscode": {
   "interpreter": {
    "hash": "de2ce22df8fda9da83c00dfe1ae3ddbcc859cf4ea94ffda9f34276f28481c3ae"
   }
  }
 },
 "nbformat": 4,
 "nbformat_minor": 2
}
