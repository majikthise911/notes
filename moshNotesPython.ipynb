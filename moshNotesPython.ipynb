{
 "cells": [
  {
   "cell_type": "code",
   "execution_count": null,
   "metadata": {},
   "outputs": [],
   "source": [
    "# 6 String Methods \n",
    "# Objects - everything in python is an object and objects have fns called methods we can access with . Notation \n",
    "course = \"Python Programming\"\n",
    "print(course.upper())\n",
    "print(course.lower())\n",
    "print(course.title())\n",
    "print(course.strip())\n",
    "print(course.find(\"pro\"))\n",
    "print(course.replace(\"p\", \"j\"))\n",
    "print(\"pro\" in course) # this will tell us if pro is in the string that is contained within course variable \n",
    "print(\"pro\" not in course) # this will give true in response "
   ]
  },
  {
   "cell_type": "code",
   "execution_count": null,
   "metadata": {},
   "outputs": [],
   "source": [
    "# 7 Numbers \n",
    "\n",
    "#3 to represent complex numbers we use j\n",
    "print(10 +3)\n",
    "print(10 - 3)\n",
    "print(10 * 3)\n",
    "print(10/3) # this will give a float 3.33\n",
    "print(10 // 2) # this will give a whole int 3 \n",
    "print(10 % 3) #modulus is the remainder of a division \n",
    "print(10**3) # 10 to the power of 3\n",
    "# x = x + 3 is the same as saying x +=3\n",
    "\n",
    "\n"
   ]
  },
  {
   "cell_type": "code",
   "execution_count": null,
   "metadata": {},
   "outputs": [],
   "source": [
    "#8 Working with Numbers \n",
    "# \n",
    "print(round(2.9)) \n",
    "print(abs(-2.9))\n",
    "\n",
    "import math\n",
    "\n",
    "print(math.ceil(2.2))"
   ]
  }
 ],
 "metadata": {
  "language_info": {
   "name": "python"
  },
  "orig_nbformat": 4
 },
 "nbformat": 4,
 "nbformat_minor": 2
}
