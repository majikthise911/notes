{
 "cells": [
  {
   "cell_type": "markdown",
   "metadata": {},
   "source": [
    "# Crypto Zombies Notes\n",
    "- Zombie DNA is based on a 16 digit integer 8356281049284737\n",
    "- Different parts of the number map to different traits. \n",
    "\tIn this example the first 2 digits map to the head and the second 2 to the eyes \n",
    "\n",
    "- The santa hat is 7. How do two digits map to 1? For example, the first 2 digits of our example DNA above are 83. To map that to the zombie's head type, we do 83 % 7 + 1 = 7. So this Zombie would have the 7th zombie head type.\n",
    "\n",
    "- Question: why the +1? 83 modulo 7 = 7 6 as shown below: \n",
    "\n",
    "- How is 83 mod 7 Calculated?\n",
    "\n",
    "- To obtain 83mod7 conduct these three steps:\n",
    "\n",
    "\t- Integer division (result without fractional part) of dividend by modulus: 83 / 7 = 11\n",
    "\t- Multiplication of the result right above (11) by the divisor (7): 11 × 7 = 77\n",
    "\t- Subtraction of the result right above (77) from the dividend (83): 83 – 77 = 6.\n",
    "\n",
    "\n",
    "- Modulus / remainder: x % y (for example, 13 % 5 is 3, because if you divide 5 into 13, 3 is the remainder)\n"
   ]
  },
  {
   "cell_type": "markdown",
   "metadata": {},
   "source": [
    "\n",
    "## Contract \n",
    "\n",
    "- is the fundamental building block of solidity \n",
    "- Always must start a solidity code with the version pragma. \n",
    "\t* It is possible to do a pragma range like pragma solidity "
   ]
  },
  {
   "cell_type": "code",
   "execution_count": null,
   "metadata": {},
   "outputs": [],
   "source": [
    "pragma solidity >=0.5.0 <0.6.0;.\n",
    "\t"
   ]
  },
  {
   "cell_type": "markdown",
   "metadata": {},
   "source": [
    "- The above code tells us we can compile in any version in the range of 0.5.0 inclusive to 0.6.0 exclusive \n",
    "- After the pragma, to open a smart contract we have to call contract followed by the name of the contract then {}. Whatever is inside the {} will be the contract "
   ]
  },
  {
   "cell_type": "markdown",
   "metadata": {},
   "source": [
    "### State variables\n",
    "- are permanently stored in the contract storage. \n",
    "\tcontractExample{ // This will be stored permanently in the blockchain uint myUnsignedInteger = 100; }\n",
    "- Uint defaults to 256 bit characters. Can call smaller bit size characters for more efficiency\n",
    "### Math operations\n",
    "- are all standard and the exponential is the same as in python with ** equating to ^  \n",
    "- To make sure that the dna number is only 16 characters create a dnaModulus uint that is set to 10**16 or 10**dnaDigits. The modulus operator will then be used to shorten numbers to 16 digits. "
   ]
  },
  {
   "cell_type": "code",
   "execution_count": null,
   "metadata": {},
   "outputs": [],
   "source": [
    "pragma solidity >=0.5.0 <0.6.0;\n",
    "contract ZombieFactory {\n",
    "\tuint dnaDigits = 16;\n",
    "\tuint dnaModulus = 10 ** dnaDigits;\n",
    "}"
   ]
  },
  {
   "cell_type": "markdown",
   "metadata": {},
   "source": [
    "### Structs\n",
    "- Structs are for more complicated data types with more than one property. What is inside of the struct are called members or fields "
   ]
  },
  {
   "cell_type": "code",
   "execution_count": null,
   "metadata": {},
   "outputs": [],
   "source": [
    "pragma solidity >=0.5.0 <0.6.0;\n",
    "\tcontract ZombieFactory {\n",
    "\t\tuint dnaDigits = 16;\n",
    "\t\tuint dnaModulus = 10 ** dnaDigits;\n",
    "\t\tstruct Zombie {\n",
    "\t\t    string name;\n",
    "\t\t    uint dna;\n",
    "}"
   ]
  },
  {
   "cell_type": "markdown",
   "metadata": {},
   "source": [
    "### Arrays\n",
    "- There are fixed arrays and dynamic arrays \n",
    "\t// Array with a fixed length of 2 elements: \n",
    "\t- uint[2] fixedArray; // another fixed Array, can contain 5 strings: \n",
    "\t- string[5] stringArray; // a dynamic Array - has no fixed size, can keep growing: \n",
    "\t- uint[] dynamicArray;\n",
    "- Can also create array of structs \n",
    "- A dynamic array of structs can be useful for storing structured data in your contract like a database \n",
    "- Can also make arrays public by using public function. Solidity automatically creates a getter method for this "
   ]
  },
  {
   "cell_type": "code",
   "execution_count": null,
   "metadata": {},
   "outputs": [],
   "source": [
    "pragma solidity >=0.5.0 <0.6.0;\n",
    "contract ZombieFactory {\n",
    "\tuint dnaDigits = 16;\n",
    "\tuint dnaModulus = 10 ** dnaDigits;\n",
    "\tstruct Zombie {\n",
    "\t\tstring name;\n",
    "\t\tuint dna;\n",
    "\t}\n",
    "\tZombie[] public zombies;\n",
    "\t// start here\n",
    "}"
   ]
  },
  {
   "cell_type": "markdown",
   "metadata": {},
   "source": [
    "### Function Declarations \n",
    "- Two ways we can pass an argument to solidity fn \n",
    "\t- Value - makes a copy of the original and therefore if the orig changes the value does not \n",
    "\t- Reference - more like a link to the orig. if the orig changes so does the reference\n",
    "\t- When using a reference (I think this should be value) variable we must give instructions to store the variable in the memory by using memory fn"
   ]
  },
  {
   "cell_type": "code",
   "execution_count": null,
   "metadata": {},
   "outputs": [],
   "source": [
    "function eatHamburgers(stringmemory_name, uint_amount) public { }"
   ]
  },
  {
   "cell_type": "markdown",
   "metadata": {},
   "source": [
    "## Chapter 8: Working with structs and arrays \n",
    "### Creating new structs \n",
    "\n",
    "1. Fill in the function body so it creates a new Zombie, and adds it to the zombies array. The name and dna for the new Zombie should come from the function arguments \n",
    "2. do it in one line of code for it to look clean"
   ]
  },
  {
   "cell_type": "code",
   "execution_count": null,
   "metadata": {},
   "outputs": [],
   "source": [
    "pragma solidity >=0.5.0 <0.6.0;\n",
    "\n",
    "contract ZombieFactory {\n",
    "\n",
    "    uint dnaDigits = 16;\n",
    "    uint dnaModulus = 10 ** dnaDigits;\n",
    "\n",
    "    struct Zombie {\n",
    "        string name;\n",
    "        uint dna;\n",
    "    }\n",
    "\n",
    "    Zombie[] public zombies;\n",
    "\n",
    "    function createZombie(string memory _name, uint _dna) public {\n",
    "        zombies.push(Zombie(_name, _dna));\n",
    "    }\n",
    "\n",
    "}"
   ]
  },
  {
   "cell_type": "markdown",
   "metadata": {},
   "source": [
    "It is convention to start function parameter variable names with an ***underscore*** in order to differentiate from global variables. \n",
    "See the above examle with ***_name, _dna*** "
   ]
  },
  {
   "cell_type": "markdown",
   "metadata": {},
   "source": [
    "We will continue this tomorrow "
   ]
  },
  {
   "attachments": {},
   "cell_type": "markdown",
   "metadata": {},
   "source": [
    "I need to star this again "
   ]
  }
 ],
 "metadata": {
  "language_info": {
   "name": "python"
  },
  "orig_nbformat": 4
 },
 "nbformat": 4,
 "nbformat_minor": 2
}
