{
 "cells": [
  {
   "cell_type": "markdown",
   "metadata": {},
   "source": [
    "# Built-In Functions\n",
    "https://docs.python.org/3/library/functions.html"
   ]
  },
  {
   "cell_type": "markdown",
   "metadata": {},
   "source": [
    "## Utilities"
   ]
  },
  {
   "cell_type": "code",
   "execution_count": 1,
   "metadata": {},
   "outputs": [
    {
     "name": "stdout",
     "output_type": "stream",
     "text": [
      "True\n"
     ]
    }
   ],
   "source": [
    "# use any()and all() to test sequences for truth values\n",
    "list1 = [1, 2, 3, 0, 5, 6]\n",
    "print(any(list1))\n",
    "\n",
    "# if any of the values are true, then the result is true. 0 would be false"
   ]
  },
  {
   "cell_type": "code",
   "execution_count": 2,
   "metadata": {},
   "outputs": [
    {
     "name": "stdout",
     "output_type": "stream",
     "text": [
      "False\n"
     ]
    }
   ],
   "source": [
    "print(all(list1))"
   ]
  },
  {
   "cell_type": "code",
   "execution_count": 3,
   "metadata": {},
   "outputs": [
    {
     "name": "stdout",
     "output_type": "stream",
     "text": [
      "min:  0\n",
      "max:  6\n",
      "sum:  17\n"
     ]
    }
   ],
   "source": [
    "print(\"min: \", min(list1))\n",
    "print(\"max: \", max(list1))\n",
    "\n",
    "print(\"sum: \", sum(list1))"
   ]
  },
  {
   "cell_type": "markdown",
   "metadata": {},
   "source": [
    "## Iterators"
   ]
  },
  {
   "cell_type": "code",
   "execution_count": 4,
   "metadata": {},
   "outputs": [
    {
     "name": "stdout",
     "output_type": "stream",
     "text": [
      "Sun\n",
      "Mon\n",
      "Tue\n"
     ]
    }
   ],
   "source": [
    "# define a list of days in English and French\n",
    "\n",
    "days = [\"Sun\", \"Mon\", \"Tue\", \"Wed\", \"Thu\", \"Fri\", \"Sat\"]\n",
    "daysFr = [\"Dim\", \"Lun\", \"Mar\", \"Mer\", \"Jeu\", \"Ven\", \"Sam\"]\n",
    "\n",
    "i = iter(days)\n",
    "print(next(i))\n",
    "print(next(i))\n",
    "print(next(i))"
   ]
  },
  {
   "cell_type": "code",
   "execution_count": null,
   "metadata": {},
   "outputs": [],
   "source": [
    "# iterate using a function and a sentinel \n",
    "with open(\"testfile.txt\", \"r\") as fp:\n",
    "    for line in iter(fp.readline, ''): # the readline value generates or retrieves the next line. \n",
    "                                       # the sentinel value is an empty string. \n",
    "                                       # when the empty string is returned, the loop stops\n",
    "        print(line)"
   ]
  },
  {
   "cell_type": "code",
   "execution_count": null,
   "metadata": {},
   "outputs": [],
   "source": [
    "# use regular interation over the days \n",
    "for m in range(len(days)): # use the length of the days list to determine the number of iterations. \n",
    "                           # range returns a sequence of numbers\n",
    "                           # len returns the length of the sequence\n",
    "    print(m+1, days[m])    # m+1 is the index of the day in the list\n",
    "                           # days[m] is the day in the list"
   ]
  },
  {
   "cell_type": "code",
   "execution_count": 6,
   "metadata": {},
   "outputs": [
    {
     "name": "stdout",
     "output_type": "stream",
     "text": [
      "1 Sun\n",
      "2 Mon\n",
      "3 Tue\n",
      "4 Wed\n",
      "5 Thu\n",
      "6 Fri\n",
      "7 Sat\n"
     ]
    }
   ],
   "source": [
    "# use enumerate() to get index\n",
    "for i, m in enumerate(days, start=1):\n",
    "    print(i, m)"
   ]
  }
 ],
 "metadata": {
  "kernelspec": {
   "display_name": "Python 3.7.11 ('blockchain_dev')",
   "language": "python",
   "name": "python3"
  },
  "language_info": {
   "codemirror_mode": {
    "name": "ipython",
    "version": 3
   },
   "file_extension": ".py",
   "mimetype": "text/x-python",
   "name": "python",
   "nbconvert_exporter": "python",
   "pygments_lexer": "ipython3",
   "version": "3.7.11"
  },
  "orig_nbformat": 4,
  "vscode": {
   "interpreter": {
    "hash": "b522a52de6909eef70592eba09ef4de7f935f7d3fb957cc0c0b48cfc49fda808"
   }
  }
 },
 "nbformat": 4,
 "nbformat_minor": 2
}
