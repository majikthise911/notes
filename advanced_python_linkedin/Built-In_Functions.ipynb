{
 "cells": [
  {
   "cell_type": "markdown",
   "metadata": {},
   "source": [
    "# Built-In Functions\n",
    "https://docs.python.org/3/library/functions.html"
   ]
  },
  {
   "cell_type": "markdown",
   "metadata": {},
   "source": [
    "## Utilities"
   ]
  },
  {
   "cell_type": "code",
   "execution_count": 1,
   "metadata": {},
   "outputs": [
    {
     "name": "stdout",
     "output_type": "stream",
     "text": [
      "True\n"
     ]
    }
   ],
   "source": [
    "# use any()and all() to test sequences for truth values\n",
    "list1 = [1, 2, 3, 0, 5, 6]\n",
    "print(any(list1))\n",
    "\n",
    "# if any of the values are true, then the result is true. 0 would be false"
   ]
  },
  {
   "cell_type": "code",
   "execution_count": 2,
   "metadata": {},
   "outputs": [
    {
     "name": "stdout",
     "output_type": "stream",
     "text": [
      "False\n"
     ]
    }
   ],
   "source": [
    "print(all(list1))"
   ]
  },
  {
   "cell_type": "code",
   "execution_count": 3,
   "metadata": {},
   "outputs": [
    {
     "name": "stdout",
     "output_type": "stream",
     "text": [
      "min:  0\n",
      "max:  6\n",
      "sum:  17\n"
     ]
    }
   ],
   "source": [
    "print(\"min: \", min(list1))\n",
    "print(\"max: \", max(list1))\n",
    "\n",
    "print(\"sum: \", sum(list1))"
   ]
  },
  {
   "cell_type": "markdown",
   "metadata": {},
   "source": [
    "## Iterators"
   ]
  },
  {
   "cell_type": "code",
   "execution_count": 4,
   "metadata": {},
   "outputs": [
    {
     "name": "stdout",
     "output_type": "stream",
     "text": [
      "Sun\n",
      "Mon\n",
      "Tue\n"
     ]
    }
   ],
   "source": [
    "# define a list of days in English and French\n",
    "\n",
    "days = [\"Sun\", \"Mon\", \"Tue\", \"Wed\", \"Thu\", \"Fri\", \"Sat\"]\n",
    "daysFr = [\"Dim\", \"Lun\", \"Mar\", \"Mer\", \"Jeu\", \"Ven\", \"Sam\"]\n",
    "\n",
    "i = iter(days)\n",
    "print(next(i))\n",
    "print(next(i))\n",
    "print(next(i))"
   ]
  },
  {
   "cell_type": "markdown",
   "metadata": {},
   "source": [
    "### iter()"
   ]
  },
  {
   "cell_type": "code",
   "execution_count": null,
   "metadata": {},
   "outputs": [],
   "source": [
    "# iterate using a function and a sentinel \n",
    "with open(\"testfile.txt\", \"r\") as fp:\n",
    "    for line in iter(fp.readline, ''): # the readline value generates or retrieves the next line. \n",
    "                                       # the sentinel value is an empty string. \n",
    "                                       # when the empty string is returned, the loop stops\n",
    "        print(line)"
   ]
  },
  {
   "cell_type": "code",
   "execution_count": null,
   "metadata": {},
   "outputs": [],
   "source": [
    "# use regular interation over the days \n",
    "for m in range(len(days)): # use the length of the days list to determine the number of iterations. \n",
    "                           # range returns a sequence of numbers\n",
    "                           # len returns the length of the sequence\n",
    "    print(m+1, days[m])    # m+1 is the index of the day in the list\n",
    "                           # days[m] is the day in the list"
   ]
  },
  {
   "cell_type": "markdown",
   "metadata": {},
   "source": [
    "### enumerate()"
   ]
  },
  {
   "cell_type": "code",
   "execution_count": 6,
   "metadata": {},
   "outputs": [
    {
     "name": "stdout",
     "output_type": "stream",
     "text": [
      "1 Sun\n",
      "2 Mon\n",
      "3 Tue\n",
      "4 Wed\n",
      "5 Thu\n",
      "6 Fri\n",
      "7 Sat\n"
     ]
    }
   ],
   "source": [
    "# use enumerate() to get index\n",
    "for i, m in enumerate(days, start=1):\n",
    "    print(i, m)"
   ]
  },
  {
   "cell_type": "markdown",
   "metadata": {},
   "source": [
    "### zip()"
   ]
  },
  {
   "cell_type": "code",
   "execution_count": 7,
   "metadata": {},
   "outputs": [
    {
     "name": "stdout",
     "output_type": "stream",
     "text": [
      "('Sun', 'Dim')\n",
      "('Mon', 'Lun')\n",
      "('Tue', 'Mar')\n",
      "('Wed', 'Mer')\n",
      "('Thu', 'Jeu')\n",
      "('Fri', 'Ven')\n",
      "('Sat', 'Sam')\n"
     ]
    }
   ],
   "source": [
    "# use zip fn to combine sequences\n",
    "for m in zip(days, daysFr):\n",
    "    print(m)"
   ]
  },
  {
   "cell_type": "code",
   "execution_count": 8,
   "metadata": {},
   "outputs": [
    {
     "name": "stdout",
     "output_type": "stream",
     "text": [
      "1 Sun = Dim in French\n",
      "2 Mon = Lun in French\n",
      "3 Tue = Mar in French\n",
      "4 Wed = Mer in French\n",
      "5 Thu = Jeu in French\n",
      "6 Fri = Ven in French\n",
      "7 Sat = Sam in French\n"
     ]
    }
   ],
   "source": [
    "for i,m in enumerate(zip(days, daysFr), start=1):\n",
    "    print(i, m[0], \"=\", m[1], \"in French\")"
   ]
  },
  {
   "cell_type": "markdown",
   "metadata": {},
   "source": [
    "## Transforms"
   ]
  },
  {
   "cell_type": "markdown",
   "metadata": {},
   "source": [
    "### Filter() "
   ]
  },
  {
   "cell_type": "code",
   "execution_count": 9,
   "metadata": {},
   "outputs": [
    {
     "name": "stdout",
     "output_type": "stream",
     "text": [
      "[1, 5, 13, 381, 47]\n"
     ]
    }
   ],
   "source": [
    "# define some sample sequences to operate on \n",
    "\n",
    "nums = (1, 8, 4, 5, 13, 26, 381, 410, 58, 47)\n",
    "chars = \"abcDeFGHiJklmnoP\"\n",
    "grades = (81, 89, 94, 78, 61, 66, 99, 74)\n",
    "\n",
    "def filterFunc(x): # define a function to filter the sequence\n",
    "    if x % 2 == 0:  # if is divisible by 2 with no remainder it is even\n",
    "        return False # return false to filter out the even numbers\n",
    "    return True # return true to keep the odd numbers\n",
    "\n",
    "# create a variable named odds and use the built in list fn to create a list. \n",
    "# Use filter to filter out the even numbers. Call filterFunc as the function and nums as the argument.\n",
    "odds = list(filter(filterFunc, nums) )\n",
    "print (odds)"
   ]
  },
  {
   "cell_type": "code",
   "execution_count": 10,
   "metadata": {},
   "outputs": [
    {
     "name": "stdout",
     "output_type": "stream",
     "text": [
      "['a', 'b', 'c', 'e', 'i', 'k', 'l', 'm', 'n', 'o']\n"
     ]
    }
   ],
   "source": [
    "def filterFunc2(x): # define a function to filter the sequence\n",
    "    if x.isupper(): # if the character is upper case\n",
    "        return False # return false to filter out the upper case characters\n",
    "    return True # return true to keep the lower case characters\n",
    "\n",
    "lowers = list(filter(filterFunc2, chars))\n",
    "print(lowers)"
   ]
  },
  {
   "cell_type": "markdown",
   "metadata": {},
   "source": [
    "### map()"
   ]
  },
  {
   "cell_type": "code",
   "execution_count": 11,
   "metadata": {},
   "outputs": [
    {
     "name": "stdout",
     "output_type": "stream",
     "text": [
      "[1, 64, 16, 25, 169, 676, 145161, 168100, 3364, 2209]\n"
     ]
    }
   ],
   "source": [
    "def squareFunc(x): # define a function to square the sequence\n",
    "    return x**2 # return the square of the number\n",
    "\n",
    "squares = list(map(squareFunc, nums)) # map the squareFunc function to the nums sequence. notice how map \n",
    "                                      # maps the function to each element in the sequence \n",
    "print(squares)"
   ]
  },
  {
   "cell_type": "code",
   "execution_count": 13,
   "metadata": {},
   "outputs": [
    {
     "name": "stdout",
     "output_type": "stream",
     "text": [
      "['F', 'D', 'C', 'C', 'B', 'B', 'A', 'A']\n"
     ]
    }
   ],
   "source": [
    "def toGrade(x):\n",
    "    if x >= 90:\n",
    "        return \"A\"\n",
    "    elif x >= 80 and x < 90:\n",
    "        return \"B\"\n",
    "    elif x >= 70 and x < 80:\n",
    "        return \"C\"\n",
    "    elif x >= 65 and x < 70:\n",
    "        return \"D\"\n",
    "    return \"F\"\n",
    "\n",
    "grades = sorted(grades)\n",
    "letters = list(map(toGrade, grades))\n",
    "print(letters)"
   ]
  },
  {
   "cell_type": "markdown",
   "metadata": {},
   "source": [
    "## Itertools\n",
    "https://docs.python.org/3/library/itertools.html"
   ]
  },
  {
   "cell_type": "code",
   "execution_count": 14,
   "metadata": {},
   "outputs": [
    {
     "name": "stdout",
     "output_type": "stream",
     "text": [
      "Joe\n",
      "John\n",
      "Mike\n",
      "Joe\n",
      "John\n"
     ]
    }
   ],
   "source": [
    "import itertools\n",
    "seq1= [\"Joe\", \"John\", \"Mike\"] # create a list of names\n",
    "cycle1 = itertools.cycle(seq1) # cycle through the sequence\n",
    "print(next(cycle1)) \n",
    "print(next(cycle1))\n",
    "print(next(cycle1))\n",
    "print(next(cycle1))\n",
    "print(next(cycle1))\n",
    "# notice how it cycles through the sequence and stops at the end of the sequence and \n",
    "# starts just before the end of the last cycle"
   ]
  },
  {
   "cell_type": "code",
   "execution_count": 16,
   "metadata": {},
   "outputs": [
    {
     "name": "stdout",
     "output_type": "stream",
     "text": [
      "100\n",
      "110\n",
      "120\n"
     ]
    }
   ],
   "source": [
    "count1 = itertools.count(100, 10) # start at 100 and count by 10\n",
    "print(next(count1))\n",
    "print(next(count1))\n",
    "print(next(count1))"
   ]
  },
  {
   "cell_type": "code",
   "execution_count": 17,
   "metadata": {},
   "outputs": [
    {
     "name": "stdout",
     "output_type": "stream",
     "text": [
      "[10, 30, 60, 100, 150, 190, 220]\n"
     ]
    }
   ],
   "source": [
    "vals = [10, 20, 30, 40, 50, 40, 30]\n",
    "acc = itertools.accumulate(vals)\n",
    "print(list(acc)) # notice how the accumulate function adds the values in the sequence"
   ]
  },
  {
   "cell_type": "code",
   "execution_count": 18,
   "metadata": {},
   "outputs": [
    {
     "name": "stdout",
     "output_type": "stream",
     "text": [
      "[10, 20, 30, 40, 50, 50, 50]\n"
     ]
    }
   ],
   "source": [
    "vals = [10, 20, 30, 40, 50, 40, 30]\n",
    "acc = itertools.accumulate(vals, max) # finds the largest number and stops adding at that point \n",
    "                                      # but continues to cycle through the sequence\n",
    "print(list(acc))"
   ]
  },
  {
   "cell_type": "code",
   "execution_count": 19,
   "metadata": {},
   "outputs": [
    {
     "name": "stdout",
     "output_type": "stream",
     "text": [
      "['A', 'B', 'C', 'D', '1', '2', '3', '4']\n"
     ]
    }
   ],
   "source": [
    "x = itertools.chain(\"ABCD\", \"1234\") # chain the two sequences together\n",
    "print(list(x))"
   ]
  },
  {
   "cell_type": "code",
   "execution_count": 20,
   "metadata": {},
   "outputs": [
    {
     "name": "stdout",
     "output_type": "stream",
     "text": [
      "[40, 50, 40, 30]\n"
     ]
    }
   ],
   "source": [
    "def testFunction (x):\n",
    "    return x < 40\n",
    "\n",
    "print(list(itertools.dropwhile(testFunction, vals))) # drop the values in the sequence until the testFunction returns true \n",
    "\n"
   ]
  },
  {
   "cell_type": "markdown",
   "metadata": {},
   "source": [
    "### Quiz "
   ]
  },
  {
   "cell_type": "code",
   "execution_count": null,
   "metadata": {},
   "outputs": [],
   "source": [
    "# 1. \n",
    "# for which of the following list will the any() function return true? \n",
    "# [False, None, 0]\n",
    "# [None, \"\", 0]\n",
    "# [0, 0j, None, \"0\"]  <-- this one\n",
    "\n",
    "# 2.\n",
    "# to combine multiple iterators into one, which function should be used? \n",
    "# zip() <-- this one\n",
    "# enumerate()\n",
    "# combine()\n",
    "# list()\n",
    "\n",
    "# 3.\n",
    "# Which function is used to apply a function to transorm a collection of values? \n",
    "# dict\n",
    "# map <-- this one\n",
    "# range\n",
    "# list\n",
    "\n",
    "# 4.\n",
    "# takewhile()\n",
    "# dropwhile()\n",
    "# cycle() <-- this one\n",
    "# chain()\n",
    "\n"
   ]
  }
 ],
 "metadata": {
  "kernelspec": {
   "display_name": "Python 3.7.11 ('blockchain_dev')",
   "language": "python",
   "name": "python3"
  },
  "language_info": {
   "codemirror_mode": {
    "name": "ipython",
    "version": 3
   },
   "file_extension": ".py",
   "mimetype": "text/x-python",
   "name": "python",
   "nbconvert_exporter": "python",
   "pygments_lexer": "ipython3",
   "version": "3.7.11"
  },
  "orig_nbformat": 4,
  "vscode": {
   "interpreter": {
    "hash": "b522a52de6909eef70592eba09ef4de7f935f7d3fb957cc0c0b48cfc49fda808"
   }
  }
 },
 "nbformat": 4,
 "nbformat_minor": 2
}
