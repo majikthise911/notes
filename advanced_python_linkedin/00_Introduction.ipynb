{
 "cells": [
  {
   "cell_type": "markdown",
   "metadata": {},
   "source": [
    "# Introduction"
   ]
  },
  {
   "cell_type": "markdown",
   "metadata": {},
   "source": [
    "### Python Coding Style"
   ]
  },
  {
   "cell_type": "code",
   "execution_count": null,
   "metadata": {},
   "outputs": [],
   "source": [
    "\n",
    "\"\"\" PEP 8 style guide\n",
    "import statements go at the top and each on its own line\n",
    "indent code using spaces instead of tabs \n",
    "use 4 spaces for each indentation level \n",
    "limit lines to 79 characters  \n",
    "fns and classes should be separated by 2 blank lines \n",
    "within classes separate methods by one blank line\n",
    "No spaces around function calls, indexes, keyword arguments \n",
    "\"\"\"\n"
   ]
  },
  {
   "cell_type": "markdown",
   "metadata": {},
   "source": [
    "### Truth Value Testing\n"
   ]
  },
  {
   "cell_type": "code",
   "execution_count": 1,
   "metadata": {},
   "outputs": [],
   "source": [
    "# False and none evaluate to false \n",
    "# Numeric zero values: 0, 0.0, 0j\n",
    "# Decimal(0), Fraction(0,x)\n",
    "# Empty sequences/collections: '', (), [], {}\n",
    "# Empty sets and ranges: set(), range(0)\n",
    "x = []"
   ]
  },
  {
   "cell_type": "code",
   "execution_count": null,
   "metadata": {},
   "outputs": [],
   "source": [
    "# python truth values\n",
    "\"\"\" \n",
    "X and Y => true if X and Y are both true\n",
    "X or Y => true if either X or Y are true (only evaluates the second if the first is false)\n",
    "not X => if X is false, then true, else false  ()\n",
    "\"\"\""
   ]
  },
  {
   "cell_type": "code",
   "execution_count": 2,
   "metadata": {},
   "outputs": [
    {
     "name": "stdout",
     "output_type": "stream",
     "text": [
      "False\n"
     ]
    }
   ],
   "source": [
    "# Numeric \n",
    "print (bool(x))"
   ]
  },
  {
   "cell_type": "markdown",
   "metadata": {},
   "source": [
    "### Strings vs bytes"
   ]
  },
  {
   "cell_type": "code",
   "execution_count": null,
   "metadata": {},
   "outputs": [],
   "source": [
    "# string in python is a sequence of unicode characters while bites are a sequence of raw 8 bit values "
   ]
  },
  {
   "cell_type": "code",
   "execution_count": 9,
   "metadata": {},
   "outputs": [
    {
     "name": "stdout",
     "output_type": "stream",
     "text": [
      "b'ABCD'\n",
      "this is a string\n"
     ]
    },
    {
     "ename": "TypeError",
     "evalue": "can only concatenate str (not \"bytes\") to str",
     "output_type": "error",
     "traceback": [
      "\u001b[1;31m---------------------------------------------------------------------------\u001b[0m",
      "\u001b[1;31mTypeError\u001b[0m                                 Traceback (most recent call last)",
      "\u001b[1;32m~\\AppData\\Local\\Temp/ipykernel_13120/762960208.py\u001b[0m in \u001b[0;36m<module>\u001b[1;34m\u001b[0m\n\u001b[0;32m      7\u001b[0m \u001b[0mprint\u001b[0m \u001b[1;33m(\u001b[0m\u001b[0ms\u001b[0m\u001b[1;33m)\u001b[0m\u001b[1;33m\u001b[0m\u001b[1;33m\u001b[0m\u001b[0m\n\u001b[0;32m      8\u001b[0m \u001b[1;33m\u001b[0m\u001b[0m\n\u001b[1;32m----> 9\u001b[1;33m \u001b[0mprint\u001b[0m\u001b[1;33m(\u001b[0m\u001b[0ms\u001b[0m\u001b[1;33m+\u001b[0m\u001b[0mb\u001b[0m\u001b[1;33m)\u001b[0m\u001b[1;33m\u001b[0m\u001b[1;33m\u001b[0m\u001b[0m\n\u001b[0m",
      "\u001b[1;31mTypeError\u001b[0m: can only concatenate str (not \"bytes\") to str"
     ]
    }
   ],
   "source": [
    "#def main():\n",
    "    #define some starting values\n",
    "b = bytes([0x41, 0x42, 0x43, 0x44])\n",
    "print(b)\n",
    "\n",
    "s = \"this is a string\"\n",
    "print (s)\n",
    "\n",
    "print(s+b)\n",
    "\n",
    "# notice the TypeError message "
   ]
  },
  {
   "cell_type": "code",
   "execution_count": 14,
   "metadata": {},
   "outputs": [
    {
     "name": "stdout",
     "output_type": "stream",
     "text": [
      "b'ABCD'\n",
      "this is a string\n",
      "this is a stringABCD\n",
      "b'ABCDthis is a string'\n",
      "b'\\xff\\xfe\\x00\\x00t\\x00\\x00\\x00h\\x00\\x00\\x00i\\x00\\x00\\x00s\\x00\\x00\\x00 \\x00\\x00\\x00i\\x00\\x00\\x00s\\x00\\x00\\x00 \\x00\\x00\\x00a\\x00\\x00\\x00 \\x00\\x00\\x00s\\x00\\x00\\x00t\\x00\\x00\\x00r\\x00\\x00\\x00i\\x00\\x00\\x00n\\x00\\x00\\x00g\\x00\\x00\\x00'\n"
     ]
    }
   ],
   "source": [
    "#def main():\n",
    "    #define some starting values\n",
    "b = bytes([0x41, 0x42, 0x43, 0x44])\n",
    "print(b)\n",
    "\n",
    "s = \"this is a string\"\n",
    "print (s)\n",
    "\n",
    "#print(s+b)\n",
    "\n",
    "s2 = b.decode('utf-8')\n",
    "print(s+s2)\n",
    "\n",
    "b2 = s.encode('utf-8')\n",
    "print(b+b2)\n",
    "\n",
    "b3 = s.encode('utf=32')\n",
    "print(b3)"
   ]
  },
  {
   "cell_type": "markdown",
   "metadata": {},
   "source": [
    "### Template strings\n",
    "\n",
    "https://docs.python.org/3/library/string.html#template-strings"
   ]
  },
  {
   "cell_type": "code",
   "execution_count": 3,
   "metadata": {},
   "outputs": [
    {
     "ename": "SyntaxError",
     "evalue": "invalid syntax (Temp/ipykernel_10688/2533563345.py, line 1)",
     "output_type": "error",
     "traceback": [
      "\u001b[1;36m  File \u001b[1;32m\"C:\\Users\\admin\\AppData\\Local\\Temp/ipykernel_10688/2533563345.py\"\u001b[1;36m, line \u001b[1;32m1\u001b[0m\n\u001b[1;33m    str1 = \"you're watching {0} by {1}. format(\"Advanced Python\" , \"Joe Marini\")\u001b[0m\n\u001b[1;37m                                                       ^\u001b[0m\n\u001b[1;31mSyntaxError\u001b[0m\u001b[1;31m:\u001b[0m invalid syntax\n"
     ]
    }
   ],
   "source": [
    "str1 = \"you're watching {0} by {1}. format(\"Advanced Python\" , \"Joe Marini\")\n",
    "print(str1)"
   ]
  },
  {
   "cell_type": "code",
   "execution_count": 2,
   "metadata": {},
   "outputs": [
    {
     "name": "stdout",
     "output_type": "stream",
     "text": [
      "You're watching Advanced Python by Joe Marini\n"
     ]
    }
   ],
   "source": [
    "from string import Template \n",
    "\n",
    "templ = Template(\"You're watching ${title} by ${author}\")\n",
    "str2 = templ.substitute(title = \"Advanced Python\", author = \"Joe Marini\")\n",
    "print(str2)"
   ]
  },
  {
   "cell_type": "code",
   "execution_count": 4,
   "metadata": {},
   "outputs": [
    {
     "name": "stdout",
     "output_type": "stream",
     "text": [
      "You're watching Advanced Python by Joe Marini\n"
     ]
    }
   ],
   "source": [
    "# can use a dictionary to hold your values \n",
    "\n",
    "data = {\n",
    "    \"author\" : \"Joe Marini\",\n",
    "    \"title\" : \"Advanced Python\"\n",
    "}\n",
    "\n",
    "str3 = templ.substitute(data)\n",
    "print (str3)"
   ]
  },
  {
   "cell_type": "code",
   "execution_count": null,
   "metadata": {},
   "outputs": [],
   "source": []
  }
 ],
 "metadata": {
  "kernelspec": {
   "display_name": "Python 3.7.11 ('blockchain_dev')",
   "language": "python",
   "name": "python3"
  },
  "language_info": {
   "codemirror_mode": {
    "name": "ipython",
    "version": 3
   },
   "file_extension": ".py",
   "mimetype": "text/x-python",
   "name": "python",
   "nbconvert_exporter": "python",
   "pygments_lexer": "ipython3",
   "version": "3.7.11"
  },
  "orig_nbformat": 4,
  "vscode": {
   "interpreter": {
    "hash": "b522a52de6909eef70592eba09ef4de7f935f7d3fb957cc0c0b48cfc49fda808"
   }
  }
 },
 "nbformat": 4,
 "nbformat_minor": 2
}
